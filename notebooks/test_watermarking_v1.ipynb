{
 "cells": [
  {
   "cell_type": "code",
   "execution_count": null,
   "id": "2a3e3cb2",
   "metadata": {
    "execution": {
     "iopub.execute_input": "2025-03-26T01:48:42.280408Z",
     "iopub.status.busy": "2025-03-26T01:48:42.279861Z",
     "iopub.status.idle": "2025-03-26T01:48:47.379446Z",
     "shell.execute_reply": "2025-03-26T01:48:47.377851Z"
    },
    "papermill": {
     "duration": 5.11131,
     "end_time": "2025-03-26T01:48:47.383123",
     "exception": false,
     "start_time": "2025-03-26T01:48:42.271813",
     "status": "completed"
    },
    "tags": []
   },
   "outputs": [],
   "source": [
    "import json\n",
    "from src.mbmark import MbMark\n",
    "from src.gaussmark import GaussMark\n",
    "from src.kgw_distilled import KGWDistilled\n",
    "from src.kgwmark import KGWMark\n",
    "from sklearn.metrics import roc_auc_score\n",
    "import os\n",
    "from transformers import AutoTokenizer, AutoModelForCausalLM\n",
    "import torch\n",
    "from datasets import load_dataset, load_from_disk\n",
    "from tqdm.notebook import tqdm\n",
    "import matplotlib.pyplot as plt\n",
    "import seaborn as sns\n",
    "import math\n",
    "import scipy.stats\n",
    "torch.manual_seed(42)\n",
    "import numpy as np\n",
    "from sklearn.metrics import roc_auc_score, roc_curve\n",
    "from scipy.interpolate import interp1d\n"
   ]
  },
  {
   "cell_type": "code",
   "execution_count": null,
   "id": "dade25f1",
   "metadata": {
    "execution": {
     "iopub.execute_input": "2025-03-26T01:48:47.396110Z",
     "iopub.status.busy": "2025-03-26T01:48:47.395694Z",
     "iopub.status.idle": "2025-03-26T01:48:47.402157Z",
     "shell.execute_reply": "2025-03-26T01:48:47.401069Z"
    },
    "papermill": {
     "duration": 0.015928,
     "end_time": "2025-03-26T01:48:47.405075",
     "exception": false,
     "start_time": "2025-03-26T01:48:47.389147",
     "status": "completed"
    },
    "tags": []
   },
   "outputs": [],
   "source": [
    "model_name = os.getenv(\"MODEL\", \"meta-llama/Llama-2-7b-hf\")\n",
    "model_suffix = model_name.split(\"/\")[-1]\n",
    "output_file = os.getenv(\"OUTPUT_FILE\", None)\n",
    "K = int(os.getenv(\"K\", 16))\n",
    "\n",
    "assert output_file is not None, \"Please set the OUTPUT_FILE environment variable to the path of your output file.\"\n",
    "\n",
    "\n",
    "BATCH_SIZE = 64\n",
    "print(f\"Batch size: {BATCH_SIZE}\")\n",
    "print(f\"Model name: {model_name}\")\n"
   ]
  },
  {
   "cell_type": "code",
   "execution_count": null,
   "id": "26d1cdf6",
   "metadata": {
    "execution": {
     "iopub.execute_input": "2025-03-26T01:48:47.436979Z",
     "iopub.status.busy": "2025-03-26T01:48:47.436411Z",
     "iopub.status.idle": "2025-03-26T01:48:47.459809Z",
     "shell.execute_reply": "2025-03-26T01:48:47.458294Z"
    },
    "papermill": {
     "duration": 0.042685,
     "end_time": "2025-03-26T01:48:47.463561",
     "exception": false,
     "start_time": "2025-03-26T01:48:47.420876",
     "status": "completed"
    },
    "tags": []
   },
   "outputs": [],
   "source": [
    "\n",
    "with open(output_file, \"r\") as f:\n",
    "    output_data = json.load(f)\n",
    "\n",
    "samples = output_data[\"samples\"]"
   ]
  },
  {
   "cell_type": "code",
   "execution_count": null,
   "id": "9869afa7",
   "metadata": {},
   "outputs": [],
   "source": [
    "tokenizer = AutoTokenizer.from_pretrained(\n",
    "    model_name,\n",
    "    device_map=\"auto\")\n",
    "if tokenizer.pad_token is None:\n",
    "    tokenizer.pad_token = tokenizer.eos_token\n",
    "\n",
    "model = AutoModelForCausalLM.from_pretrained(\n",
    "    model_name, device_map=\"auto\", torch_dtype=torch.bfloat16)\n",
    "\n",
    "watermark_type = output_data[\"watermark\"]\n",
    "config = output_data[\"config\"]\n",
    "\n",
    "if watermark_type == \"gaussmark\":\n",
    "    watermark = GaussMark(sigma=config[\"sigma\"],\n",
    "                          tokenizer=tokenizer, model=model, seed=config[\"hash_key\"], target_param_name=config[\"target_param_name\"])\n",
    "    BATCH_SIZE = 8\n",
    "elif watermark_type == \"mb\":\n",
    "    dataset_suffix = \"openwebtext\"\n",
    "    model_suffix = model_name.split(\"/\")[-1]\n",
    "    final_matrix_path = f\"saved_models/{dataset_suffix}_{model_suffix}/selector_matrix_k{K}.pth\"\n",
    "    final_weight = torch.load(final_matrix_path)\n",
    "    watermark = MbMark.mb(\n",
    "        delta=config[\"delta\"],\n",
    "        gamma=config[\"gamma\"],\n",
    "        seed=config[\"hash_key\"],\n",
    "        final_weight=final_weight,\n",
    "        model=model,\n",
    "        tokenizer=tokenizer,\n",
    "        unembedding_param_name=config[\"unembedding_param_name\"]\n",
    "    )\n",
    "elif watermark_type == \"noise\":\n",
    "    watermark = MbMark.noise_injection(\n",
    "        delta=config[\"delta\"],\n",
    "        seed=config[\"hash_key\"],\n",
    "        model=model,\n",
    "        tokenizer=tokenizer,\n",
    "        unembedding_param_name=config[\"unembedding_param_name\"],\n",
    "        distribution=config[\"distribution\"]\n",
    "    )\n",
    "elif watermark_type == \"distilled\":\n",
    "    watermark = KGWDistilled(\n",
    "        gamma=config[\"gamma\"],\n",
    "        seeding_scheme=config[\"seeding_scheme\"],\n",
    "        kgw_device=config[\"kgw_device\"],\n",
    "        model=model,\n",
    "        tokenizer=tokenizer,\n",
    "    )\n",
    "elif watermark_type == \"kgw\" or watermark_type == \"kgw_llr\":\n",
    "    llr_detection = watermark_type == \"kgw_llr\"\n",
    "    watermark = KGWMark(\n",
    "        gamma=config[\"gamma\"],\n",
    "        delta=config[\"delta\"],\n",
    "        hash_key=config[\"hash_key\"],\n",
    "        kgw_device=config[\"kgw_device\"],\n",
    "        model=model,\n",
    "        tokenizer=tokenizer,\n",
    "        llr_detection=llr_detection\n",
    "    )"
   ]
  },
  {
   "cell_type": "code",
   "execution_count": null,
   "id": "189bbdfa",
   "metadata": {
    "execution": {
     "iopub.execute_input": "2025-03-26T01:48:54.919704Z",
     "iopub.status.busy": "2025-03-26T01:48:54.919106Z",
     "iopub.status.idle": "2025-03-26T01:48:54.937562Z",
     "shell.execute_reply": "2025-03-26T01:48:54.935786Z"
    },
    "papermill": {
     "duration": 0.029949,
     "end_time": "2025-03-26T01:48:54.941009",
     "exception": false,
     "start_time": "2025-03-26T01:48:54.911060",
     "status": "completed"
    },
    "tags": []
   },
   "outputs": [],
   "source": [
    "def get_zcores(column):\n",
    "    all_scores = []\n",
    "\n",
    "    data = samples[column]\n",
    "    for i in range(0, len(data), BATCH_SIZE):\n",
    "        batch = data[i:i + BATCH_SIZE]\n",
    "        with torch.no_grad():\n",
    "            scores = watermark.score_text_batch(batch)\n",
    "            all_scores.append(scores)\n",
    "\n",
    "    all_scores = torch.cat(all_scores)\n",
    "\n",
    "    return all_scores"
   ]
  },
  {
   "cell_type": "markdown",
   "id": "0c0e3a10",
   "metadata": {
    "papermill": {
     "duration": 0.004764,
     "end_time": "2025-03-26T01:48:54.951772",
     "exception": false,
     "start_time": "2025-03-26T01:48:54.947008",
     "status": "completed"
    },
    "tags": []
   },
   "source": [
    "#### Human text / negative sample scores"
   ]
  },
  {
   "cell_type": "code",
   "execution_count": null,
   "id": "d486b607",
   "metadata": {
    "execution": {
     "iopub.execute_input": "2025-03-26T01:48:54.962825Z",
     "iopub.status.busy": "2025-03-26T01:48:54.962260Z",
     "iopub.status.idle": "2025-03-26T01:49:25.395511Z",
     "shell.execute_reply": "2025-03-26T01:49:25.394565Z"
    },
    "papermill": {
     "duration": 30.452823,
     "end_time": "2025-03-26T01:49:25.409342",
     "exception": false,
     "start_time": "2025-03-26T01:48:54.956519",
     "status": "completed"
    },
    "tags": []
   },
   "outputs": [],
   "source": [
    "negative_z = get_zcores(\"human_text\")\n",
    "mean_negative_z = negative_z.mean().item()\n",
    "std_negative_z = negative_z.std().item()\n",
    "print(f\"Mean negative z value: {mean_negative_z}\")\n",
    "print(f\"Std negative z value: {std_negative_z}\")"
   ]
  },
  {
   "cell_type": "markdown",
   "id": "b5613435",
   "metadata": {
    "papermill": {
     "duration": 0.004517,
     "end_time": "2025-03-26T01:49:25.418919",
     "exception": false,
     "start_time": "2025-03-26T01:49:25.414402",
     "status": "completed"
    },
    "tags": []
   },
   "source": [
    "#### Watermaked text score"
   ]
  },
  {
   "cell_type": "code",
   "execution_count": null,
   "id": "c1a4cbc7",
   "metadata": {
    "execution": {
     "iopub.execute_input": "2025-03-26T01:49:25.427146Z",
     "iopub.status.busy": "2025-03-26T01:49:25.426780Z",
     "iopub.status.idle": "2025-03-26T01:49:25.445427Z",
     "shell.execute_reply": "2025-03-26T01:49:25.444570Z"
    },
    "papermill": {
     "duration": 0.025199,
     "end_time": "2025-03-26T01:49:25.447279",
     "exception": false,
     "start_time": "2025-03-26T01:49:25.422080",
     "status": "completed"
    },
    "tags": []
   },
   "outputs": [],
   "source": [
    "def compute_metrics(watermark_scores, null_scores):\n",
    "    min_sweep = min(watermark_scores.min().item(),\n",
    "                    null_scores.min().item()) - 1\n",
    "    max_sweep = max(watermark_scores.max().item(),\n",
    "                    null_scores.max().item()) + 1\n",
    "\n",
    "    # Compute AUROC\n",
    "    y_true = np.concatenate([\n",
    "        np.ones_like(watermark_scores),\n",
    "        np.zeros_like(null_scores)\n",
    "    ])\n",
    "    y_score = np.concatenate([watermark_scores, null_scores])\n",
    "\n",
    "    # Original logic: p-values → low = positive = watermark\n",
    "    auroc = roc_auc_score(y_true, y_score)\n",
    "\n",
    "    # Compute best F1 score\n",
    "    f1_scores = []\n",
    "    thresholds = np.linspace(min_sweep, max_sweep, 1000)\n",
    "    for threshold in thresholds:\n",
    "        y_pred = (y_score >= threshold).astype(int)  # Predict class 1 = null\n",
    "        tp = np.sum((y_true == 1) & (y_pred == 1))\n",
    "        fp = np.sum((y_true == 0) & (y_pred == 1))\n",
    "        fn = np.sum((y_true == 1) & (y_pred == 0))\n",
    "        precision = tp / (tp + fp) if (tp + fp) > 0 else 0\n",
    "        recall = tp / (tp + fn) if (tp + fn) > 0 else 0\n",
    "        f1_score = 2 * (precision * recall) / (precision +\n",
    "                                               recall) if (precision + recall) > 0 else 0\n",
    "        f1_scores.append(f1_score)\n",
    "\n",
    "    f1_scores = np.array(f1_scores)\n",
    "    thresholds = np.array(thresholds)\n",
    "\n",
    "    best_f1_score = f1_scores.max()\n",
    "    best_indices = np.where(f1_scores == best_f1_score)[0]\n",
    "\n",
    "    # Recompute precision at each of the best-F1 thresholds\n",
    "    best_precisions = []\n",
    "    for idx in best_indices:\n",
    "        threshold = thresholds[idx]\n",
    "        y_pred = (y_score >= threshold).astype(int)\n",
    "        tp = np.sum((y_true == 1) & (y_pred == 1))\n",
    "        fp = np.sum((y_true == 0) & (y_pred == 1))\n",
    "        precision = tp / (tp + fp) if (tp + fp) > 0 else 0\n",
    "        best_precisions.append(precision)\n",
    "\n",
    "    best_precisions = np.array(best_precisions)\n",
    "    max_precision = best_precisions.max()\n",
    "    precision_indices = best_indices[np.where(\n",
    "        best_precisions == max_precision)[0]]\n",
    "\n",
    "    # Choose the highest threshold among those with best F1 and max precision\n",
    "    best_threshold = thresholds[precision_indices].max()\n",
    "\n",
    "    # Interpolated TPR@1%FPR\n",
    "    fpr_array, tpr_array, roc_thresholds = roc_curve(y_true, y_score)\n",
    "    tpr_interp = interp1d(fpr_array, tpr_array, kind='linear',\n",
    "                          bounds_error=False, fill_value=(tpr_array[0], tpr_array[-1]))\n",
    "    tpr_at_1_fpr = float(tpr_interp(0.01))\n",
    "    tpr_at_01_fpr = float(tpr_interp(0.001))\n",
    "    tpr_at_005_fpr = float(tpr_interp(0.0005))\n",
    "    tpr_at_5_fpr = float(tpr_interp(0.05))\n",
    "\n",
    "    fpr_diff = np.abs(fpr_array - 0.01)\n",
    "    threshold_at_1_fpr = roc_thresholds[fpr_diff.argmin()]\n",
    "    # Convert to float for consistency\n",
    "    threshold_at_1_fpr = float(threshold_at_1_fpr)\n",
    "\n",
    "    return {\n",
    "        \"auroc\": auroc,\n",
    "        \"best_f1_score\": best_f1_score,\n",
    "        \"tpr_1_fpr\": tpr_at_1_fpr,\n",
    "        \"tpr_0.1_fpr\": tpr_at_01_fpr,\n",
    "        \"tpr_0.05_fpr\": tpr_at_005_fpr,\n",
    "        \"tpr_5_fpr\": tpr_at_5_fpr,\n",
    "        \"best_threshold\": best_threshold,\n",
    "        \"threshold_at_1_fpr\": threshold_at_1_fpr,\n",
    "    }\n",
    "\n",
    "\n",
    "def compute_scores(column):\n",
    "    positive_z = get_zcores(\n",
    "        column)\n",
    "    mean_positive_z = positive_z.mean().item()\n",
    "    std_positive_z = positive_z.std().item()\n",
    "\n",
    "    plt.figure(figsize=(8, 6))\n",
    "    plt.hist(negative_z.cpu().numpy(), bins=50, alpha=0.5,\n",
    "             label='Human Text', color='blue')\n",
    "    plt.hist(positive_z.cpu().numpy(), bins=50, alpha=0.5,\n",
    "             label='Watermarked Text', color='orange')\n",
    "    plt.title('Avg LLR Scores')\n",
    "    plt.xlabel('Avg LLR Score')\n",
    "    plt.ylabel('Frequency')\n",
    "    plt.legend()\n",
    "    plt.grid()\n",
    "    plt.show()\n",
    "\n",
    "    print(f\"Mean positive z value: {mean_positive_z}\")\n",
    "    print(f\"Std positive z value: {std_positive_z}\")\n",
    "    watermark_scores = positive_z.cpu().numpy()\n",
    "    null_scores = negative_z.cpu().numpy()\n",
    "    metrics = compute_metrics(watermark_scores, null_scores)\n",
    "\n",
    "    return metrics"
   ]
  },
  {
   "cell_type": "code",
   "execution_count": null,
   "id": "c5af74fd",
   "metadata": {
    "execution": {
     "iopub.execute_input": "2025-03-26T01:49:25.458897Z",
     "iopub.status.busy": "2025-03-26T01:49:25.458486Z",
     "iopub.status.idle": "2025-03-26T01:49:55.784361Z",
     "shell.execute_reply": "2025-03-26T01:49:55.783566Z"
    },
    "papermill": {
     "duration": 30.335647,
     "end_time": "2025-03-26T01:49:55.787323",
     "exception": false,
     "start_time": "2025-03-26T01:49:25.451676",
     "status": "completed"
    },
    "tags": []
   },
   "outputs": [],
   "source": [
    "metrics = compute_scores(\"model_text\")\n",
    "\n",
    "output_data[\"metrics\"] = metrics\n",
    "\n",
    "# Print all metrics as a map\n",
    "print(\"Metrics:\")\n",
    "for key, value in metrics.items():\n",
    "    print(f\"{key}: {value}\")"
   ]
  },
  {
   "cell_type": "code",
   "execution_count": null,
   "id": "26413cb6",
   "metadata": {},
   "outputs": [],
   "source": [
    "with torch.no_grad():\n",
    "    # Clear the cache\n",
    "    torch.cuda.empty_cache()"
   ]
  },
  {
   "cell_type": "markdown",
   "id": "6720fedc",
   "metadata": {
    "papermill": {
     "duration": 0.00565,
     "end_time": "2025-03-26T01:49:55.801031",
     "exception": false,
     "start_time": "2025-03-26T01:49:55.795381",
     "status": "completed"
    },
    "tags": []
   },
   "source": [
    "#### Paraphrased text score"
   ]
  },
  {
   "cell_type": "code",
   "execution_count": null,
   "id": "6493a5a5",
   "metadata": {
    "execution": {
     "iopub.execute_input": "2025-03-26T01:49:55.811827Z",
     "iopub.status.busy": "2025-03-26T01:49:55.811551Z",
     "iopub.status.idle": "2025-03-26T01:50:33.887816Z",
     "shell.execute_reply": "2025-03-26T01:50:33.887021Z"
    },
    "papermill": {
     "duration": 38.08474,
     "end_time": "2025-03-26T01:50:33.890921",
     "exception": false,
     "start_time": "2025-03-26T01:49:55.806181",
     "status": "completed"
    },
    "tags": []
   },
   "outputs": [],
   "source": [
    "BATCH_SIZE = BATCH_SIZE // 2\n",
    "\n",
    "if \"dipper_text_lex60_order0\" in samples:\n",
    "    metrics = compute_scores(\"dipper_text_lex60_order0\")\n",
    "    output_data[\"metrics_dipper_text_lex60_order0\"] = metrics\n",
    "    print(\"Dipper 60 Metrics:\")\n",
    "    for key, value in metrics.items():\n",
    "        print(f\"    {key}: {value}\")"
   ]
  },
  {
   "cell_type": "code",
   "execution_count": null,
   "id": "900ea6a7",
   "metadata": {},
   "outputs": [],
   "source": [
    "if \"dipper_text_lex20_order0\" in samples:\n",
    "    metrics = compute_scores(\"dipper_text_lex20_order0\")\n",
    "    output_data[\"metrics_dipper_text_lex20_order0\"] = metrics\n",
    "    print(\"Dipper 20 Metrics:\")\n",
    "    for key, value in metrics.items():\n",
    "        print(f\"    {key}: {value}\")"
   ]
  },
  {
   "cell_type": "code",
   "execution_count": null,
   "id": "a3e50ddc",
   "metadata": {},
   "outputs": [],
   "source": [
    "# Save the output data to the output file\n",
    "with open(output_file, \"w\") as f:\n",
    "    json.dump(output_data, f, indent=4)"
   ]
  }
 ],
 "metadata": {
  "kernelspec": {
   "display_name": "venv",
   "language": "python",
   "name": "python3"
  },
  "language_info": {
   "codemirror_mode": {
    "name": "ipython",
    "version": 3
   },
   "file_extension": ".py",
   "mimetype": "text/x-python",
   "name": "python",
   "nbconvert_exporter": "python",
   "pygments_lexer": "ipython3",
   "version": "3.12.5"
  },
  "papermill": {
   "default_parameters": {},
   "duration": 114.183881,
   "end_time": "2025-03-26T01:50:35.226986",
   "environment_variables": {},
   "exception": null,
   "input_path": "notebooks/test_watermarking.ipynb",
   "output_path": "output/tw4.2.ipynb",
   "parameters": {},
   "start_time": "2025-03-26T01:48:41.043105",
   "version": "2.6.0"
  },
  "widgets": {
   "application/vnd.jupyter.widget-state+json": {
    "state": {
     "14ef48eb32e8433bb641ce507f081e57": {
      "model_module": "@jupyter-widgets/controls",
      "model_module_version": "2.0.0",
      "model_name": "HTMLStyleModel",
      "state": {
       "_model_module": "@jupyter-widgets/controls",
       "_model_module_version": "2.0.0",
       "_model_name": "HTMLStyleModel",
       "_view_count": null,
       "_view_module": "@jupyter-widgets/base",
       "_view_module_version": "2.0.0",
       "_view_name": "StyleView",
       "background": null,
       "description_width": "",
       "font_size": null,
       "text_color": null
      }
     },
     "3804a8a38f7649cda6987326e9709b76": {
      "model_module": "@jupyter-widgets/base",
      "model_module_version": "2.0.0",
      "model_name": "LayoutModel",
      "state": {
       "_model_module": "@jupyter-widgets/base",
       "_model_module_version": "2.0.0",
       "_model_name": "LayoutModel",
       "_view_count": null,
       "_view_module": "@jupyter-widgets/base",
       "_view_module_version": "2.0.0",
       "_view_name": "LayoutView",
       "align_content": null,
       "align_items": null,
       "align_self": null,
       "border_bottom": null,
       "border_left": null,
       "border_right": null,
       "border_top": null,
       "bottom": null,
       "display": null,
       "flex": null,
       "flex_flow": null,
       "grid_area": null,
       "grid_auto_columns": null,
       "grid_auto_flow": null,
       "grid_auto_rows": null,
       "grid_column": null,
       "grid_gap": null,
       "grid_row": null,
       "grid_template_areas": null,
       "grid_template_columns": null,
       "grid_template_rows": null,
       "height": null,
       "justify_content": null,
       "justify_items": null,
       "left": null,
       "margin": null,
       "max_height": null,
       "max_width": null,
       "min_height": null,
       "min_width": null,
       "object_fit": null,
       "object_position": null,
       "order": null,
       "overflow": null,
       "padding": null,
       "right": null,
       "top": null,
       "visibility": null,
       "width": null
      }
     },
     "3aa09cae566b4ffcaf0795fae0d1c44c": {
      "model_module": "@jupyter-widgets/controls",
      "model_module_version": "2.0.0",
      "model_name": "HTMLModel",
      "state": {
       "_dom_classes": [],
       "_model_module": "@jupyter-widgets/controls",
       "_model_module_version": "2.0.0",
       "_model_name": "HTMLModel",
       "_view_count": null,
       "_view_module": "@jupyter-widgets/controls",
       "_view_module_version": "2.0.0",
       "_view_name": "HTMLView",
       "description": "",
       "description_allow_html": false,
       "layout": "IPY_MODEL_3804a8a38f7649cda6987326e9709b76",
       "placeholder": "​",
       "style": "IPY_MODEL_6f20be7badab4126bab81c8f050883ed",
       "tabbable": null,
       "tooltip": null,
       "value": " 2/2 [00:04&lt;00:00,  2.25s/it]"
      }
     },
     "3b3584bb6bd5438b95e95058566ce7d8": {
      "model_module": "@jupyter-widgets/base",
      "model_module_version": "2.0.0",
      "model_name": "LayoutModel",
      "state": {
       "_model_module": "@jupyter-widgets/base",
       "_model_module_version": "2.0.0",
       "_model_name": "LayoutModel",
       "_view_count": null,
       "_view_module": "@jupyter-widgets/base",
       "_view_module_version": "2.0.0",
       "_view_name": "LayoutView",
       "align_content": null,
       "align_items": null,
       "align_self": null,
       "border_bottom": null,
       "border_left": null,
       "border_right": null,
       "border_top": null,
       "bottom": null,
       "display": null,
       "flex": null,
       "flex_flow": null,
       "grid_area": null,
       "grid_auto_columns": null,
       "grid_auto_flow": null,
       "grid_auto_rows": null,
       "grid_column": null,
       "grid_gap": null,
       "grid_row": null,
       "grid_template_areas": null,
       "grid_template_columns": null,
       "grid_template_rows": null,
       "height": null,
       "justify_content": null,
       "justify_items": null,
       "left": null,
       "margin": null,
       "max_height": null,
       "max_width": null,
       "min_height": null,
       "min_width": null,
       "object_fit": null,
       "object_position": null,
       "order": null,
       "overflow": null,
       "padding": null,
       "right": null,
       "top": null,
       "visibility": null,
       "width": null
      }
     },
     "414719c467aa4bcdab4390a2194c0ab9": {
      "model_module": "@jupyter-widgets/controls",
      "model_module_version": "2.0.0",
      "model_name": "ProgressStyleModel",
      "state": {
       "_model_module": "@jupyter-widgets/controls",
       "_model_module_version": "2.0.0",
       "_model_name": "ProgressStyleModel",
       "_view_count": null,
       "_view_module": "@jupyter-widgets/base",
       "_view_module_version": "2.0.0",
       "_view_name": "StyleView",
       "bar_color": null,
       "description_width": ""
      }
     },
     "6f20be7badab4126bab81c8f050883ed": {
      "model_module": "@jupyter-widgets/controls",
      "model_module_version": "2.0.0",
      "model_name": "HTMLStyleModel",
      "state": {
       "_model_module": "@jupyter-widgets/controls",
       "_model_module_version": "2.0.0",
       "_model_name": "HTMLStyleModel",
       "_view_count": null,
       "_view_module": "@jupyter-widgets/base",
       "_view_module_version": "2.0.0",
       "_view_name": "StyleView",
       "background": null,
       "description_width": "",
       "font_size": null,
       "text_color": null
      }
     },
     "72f9c2aae83b47a898ae49ed0abbf5c3": {
      "model_module": "@jupyter-widgets/base",
      "model_module_version": "2.0.0",
      "model_name": "LayoutModel",
      "state": {
       "_model_module": "@jupyter-widgets/base",
       "_model_module_version": "2.0.0",
       "_model_name": "LayoutModel",
       "_view_count": null,
       "_view_module": "@jupyter-widgets/base",
       "_view_module_version": "2.0.0",
       "_view_name": "LayoutView",
       "align_content": null,
       "align_items": null,
       "align_self": null,
       "border_bottom": null,
       "border_left": null,
       "border_right": null,
       "border_top": null,
       "bottom": null,
       "display": null,
       "flex": null,
       "flex_flow": null,
       "grid_area": null,
       "grid_auto_columns": null,
       "grid_auto_flow": null,
       "grid_auto_rows": null,
       "grid_column": null,
       "grid_gap": null,
       "grid_row": null,
       "grid_template_areas": null,
       "grid_template_columns": null,
       "grid_template_rows": null,
       "height": null,
       "justify_content": null,
       "justify_items": null,
       "left": null,
       "margin": null,
       "max_height": null,
       "max_width": null,
       "min_height": null,
       "min_width": null,
       "object_fit": null,
       "object_position": null,
       "order": null,
       "overflow": null,
       "padding": null,
       "right": null,
       "top": null,
       "visibility": null,
       "width": null
      }
     },
     "7dc7cc51ea374e88aaabab1e5109e701": {
      "model_module": "@jupyter-widgets/controls",
      "model_module_version": "2.0.0",
      "model_name": "FloatProgressModel",
      "state": {
       "_dom_classes": [],
       "_model_module": "@jupyter-widgets/controls",
       "_model_module_version": "2.0.0",
       "_model_name": "FloatProgressModel",
       "_view_count": null,
       "_view_module": "@jupyter-widgets/controls",
       "_view_module_version": "2.0.0",
       "_view_name": "ProgressView",
       "bar_style": "success",
       "description": "",
       "description_allow_html": false,
       "layout": "IPY_MODEL_8f18a4b2d00b47b6806f269e0f2a2337",
       "max": 2,
       "min": 0,
       "orientation": "horizontal",
       "style": "IPY_MODEL_414719c467aa4bcdab4390a2194c0ab9",
       "tabbable": null,
       "tooltip": null,
       "value": 2
      }
     },
     "8f18a4b2d00b47b6806f269e0f2a2337": {
      "model_module": "@jupyter-widgets/base",
      "model_module_version": "2.0.0",
      "model_name": "LayoutModel",
      "state": {
       "_model_module": "@jupyter-widgets/base",
       "_model_module_version": "2.0.0",
       "_model_name": "LayoutModel",
       "_view_count": null,
       "_view_module": "@jupyter-widgets/base",
       "_view_module_version": "2.0.0",
       "_view_name": "LayoutView",
       "align_content": null,
       "align_items": null,
       "align_self": null,
       "border_bottom": null,
       "border_left": null,
       "border_right": null,
       "border_top": null,
       "bottom": null,
       "display": null,
       "flex": null,
       "flex_flow": null,
       "grid_area": null,
       "grid_auto_columns": null,
       "grid_auto_flow": null,
       "grid_auto_rows": null,
       "grid_column": null,
       "grid_gap": null,
       "grid_row": null,
       "grid_template_areas": null,
       "grid_template_columns": null,
       "grid_template_rows": null,
       "height": null,
       "justify_content": null,
       "justify_items": null,
       "left": null,
       "margin": null,
       "max_height": null,
       "max_width": null,
       "min_height": null,
       "min_width": null,
       "object_fit": null,
       "object_position": null,
       "order": null,
       "overflow": null,
       "padding": null,
       "right": null,
       "top": null,
       "visibility": null,
       "width": null
      }
     },
     "cc8c8afb087649d88179c86a65afe0b3": {
      "model_module": "@jupyter-widgets/controls",
      "model_module_version": "2.0.0",
      "model_name": "HBoxModel",
      "state": {
       "_dom_classes": [],
       "_model_module": "@jupyter-widgets/controls",
       "_model_module_version": "2.0.0",
       "_model_name": "HBoxModel",
       "_view_count": null,
       "_view_module": "@jupyter-widgets/controls",
       "_view_module_version": "2.0.0",
       "_view_name": "HBoxView",
       "box_style": "",
       "children": [
        "IPY_MODEL_e2c99714b6584679b9ee7e72b02f9de4",
        "IPY_MODEL_7dc7cc51ea374e88aaabab1e5109e701",
        "IPY_MODEL_3aa09cae566b4ffcaf0795fae0d1c44c"
       ],
       "layout": "IPY_MODEL_72f9c2aae83b47a898ae49ed0abbf5c3",
       "tabbable": null,
       "tooltip": null
      }
     },
     "e2c99714b6584679b9ee7e72b02f9de4": {
      "model_module": "@jupyter-widgets/controls",
      "model_module_version": "2.0.0",
      "model_name": "HTMLModel",
      "state": {
       "_dom_classes": [],
       "_model_module": "@jupyter-widgets/controls",
       "_model_module_version": "2.0.0",
       "_model_name": "HTMLModel",
       "_view_count": null,
       "_view_module": "@jupyter-widgets/controls",
       "_view_module_version": "2.0.0",
       "_view_name": "HTMLView",
       "description": "",
       "description_allow_html": false,
       "layout": "IPY_MODEL_3b3584bb6bd5438b95e95058566ce7d8",
       "placeholder": "​",
       "style": "IPY_MODEL_14ef48eb32e8433bb641ce507f081e57",
       "tabbable": null,
       "tooltip": null,
       "value": "Loading checkpoint shards: 100%"
      }
     }
    },
    "version_major": 2,
    "version_minor": 0
   }
  }
 },
 "nbformat": 4,
 "nbformat_minor": 5
}
