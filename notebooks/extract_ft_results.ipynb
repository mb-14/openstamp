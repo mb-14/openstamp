{
 "cells": [
  {
   "cell_type": "code",
   "execution_count": 1,
   "id": "1ebeed19",
   "metadata": {},
   "outputs": [],
   "source": [
    "import json\n",
    "import os\n",
    "import re\n",
    "import pandas as pd\n",
    "\n",
    "\n",
    "\n",
    "model = \"meta-llama/Llama-2-7b-hf\"\n",
    "\n",
    "model_suffix = model.split(\"/\")[-1]\n",
    "\n",
    "path = f\"../output/{model_suffix}/lora\"\n",
    "\n",
    "# List subdirectories in the path\n",
    "subdirs = [d for d in os.listdir(path) if os.path.isdir(os.path.join(path, d))]\n",
    "\n",
    "# Read JSON files starting with \"output\" from each subdirectory\n",
    "data = []\n",
    "for subdir in subdirs:\n",
    "    subdir_path = os.path.join(path, subdir)\n",
    "    json_files = [f for f in os.listdir(subdir_path) if f.startswith(\"output\") and f.endswith(\".json\")]\n",
    "\n",
    "    \n",
    "    # Read each JSON file and extract metrics key which is a key value map\n",
    "    for json_file in json_files:\n",
    "        # Get step from the filename which is in the format \"output{.}*step=123.json\"\n",
    "        step_match = re.search(r'step=(\\d+)', json_file)\n",
    "        step = int(step_match.group(1)) if step_match else None\n",
    "        json_path = os.path.join(subdir_path, json_file)\n",
    "        with open(json_path, 'r') as f:\n",
    "            json_data = json.load(f)\n",
    "            metrics = json_data.get(\"metrics\", {})\n",
    "            ppl = json_data.get(\"ppl\", {}).get(\"mean\", None)\n",
    "            json_data = { \n",
    "                \"step\": step,\n",
    "                \"subdir\": subdir,\n",
    "                \"ppl\": ppl,\n",
    "                **metrics\n",
    "            }\n",
    "\n",
    "            data.append(json_data)\n",
    "# Create a DataFrame from the collected data\n",
    "df = pd.DataFrame(data)\n"
   ]
  },
  {
   "cell_type": "code",
   "execution_count": 2,
   "id": "847acd7a",
   "metadata": {},
   "outputs": [],
   "source": [
    "# Plot auroc across steps for each subdir\n",
    "subdirs = [\"kgw_distilled\", \"gaussmark\", \"mb_k256\"]\n",
    "rename_map = {\n",
    "    \"kgw_distilled\": \"KGW Distilled\",\n",
    "    \"gaussmark\": \"GaussMark\",\n",
    "    \"mb_k256\": \"OpenStamp\"\n",
    "}\n",
    "df_filtered = df[df['subdir'].isin(subdirs)]\n",
    "# Rename subdirs for better readability in the plot\n",
    "df_filtered['subdir'] = df_filtered['subdir'].replace(rename_map)"
   ]
  },
  {
   "cell_type": "code",
   "execution_count": 3,
   "id": "9584a87e",
   "metadata": {},
   "outputs": [
    {
     "name": "stdout",
     "output_type": "stream",
     "text": [
      "[]\n"
     ]
    },
    {
     "name": "stderr",
     "output_type": "stream",
     "text": [
      "/tmp/ipykernel_4191429/1630504522.py:21: UserWarning: No artists with labels found to put in legend.  Note that artists whose label start with an underscore are ignored when legend() is called with no argument.\n",
      "  legend = plt.legend(\n"
     ]
    },
    {
     "data": {
      "image/png": "[encoded data removed]",
      "text/plain": [
       "<Figure size 800x400 with 1 Axes>"
      ]
     },
     "metadata": {},
     "output_type": "display_data"
    }
   ],
   "source": [
    "\n",
    "print(df_filtered['subdir'].unique())\n",
    "\n",
    "\n",
    "import matplotlib.pyplot as plt\n",
    "\n",
    "plt.figure(figsize=(8, 4))\n",
    "colors = ['#1f77b4', '#ff7f0e', '#2ca02c', '#d62728', '#9467bd', '#8c564b']\n",
    "for i, subdir in enumerate(sorted(df_filtered['subdir'].unique())):\n",
    "    subdir_data = df_filtered[df_filtered['subdir'] == subdir].sort_values(by='step')\n",
    "    plt.plot(\n",
    "        subdir_data['step'],\n",
    "        subdir_data['tpr_5_fpr'],\n",
    "        label=subdir,\n",
    "        color=colors[i % len(colors)],\n",
    "        marker='o',\n",
    "        linewidth=2,\n",
    "        markersize=6\n",
    "    )\n",
    "plt.xlabel('Finetuning Step', fontsize=12)\n",
    "plt.ylabel('TPR at 5% FPR', fontsize=12)\n",
    "legend = plt.legend(\n",
    "    title=\"Watermark\",\n",
    "    fontsize=9,\n",
    "    title_fontsize=11,\n",
    "    loc='lower left',\n",
    "    frameon=False\n",
    ")\n",
    "\n",
    "plt.grid(True, linestyle='--', linewidth=0.5, alpha=0.7)\n",
    "plt.tight_layout()\n",
    "plt.xticks(fontsize=11)\n",
    "plt.yticks(fontsize=11)\n",
    "plt.show()"
   ]
  },
  {
   "cell_type": "code",
   "execution_count": null,
   "id": "21a47e9f",
   "metadata": {},
   "outputs": [],
   "source": [
    "# Compare average rate of decrease in TPR at 5% FPR across subdirs\n",
    "avg_tpr_decrease = df_filtered.groupby('subdir')['tpr_5_fpr'].mean().sort_values(ascending=False)\n",
    "print(\"Average TPR at 5% FPR across subdirs:\")\n",
    "print(avg_tpr_decrease)"
   ]
  },
  {
   "cell_type": "code",
   "execution_count": null,
   "id": "fd2829fe",
   "metadata": {},
   "outputs": [],
   "source": [
    "import matplotlib.pyplot as plt\n",
    "import seaborn as sns\n",
    "import pandas as pd\n",
    "\n",
    "# Assume df has columns: subdir, step, ppl\n",
    "\n",
    "# Get step 0 PPL per subdir\n",
    "step0_ppl = df_filtered[df_filtered['step'] == 0][['subdir', 'ppl']].set_index('subdir')['ppl']\n",
    "\n",
    "# Map step 0 PPL to all rows\n",
    "df_filtered['step0_ppl'] = df_filtered['subdir'].map(step0_ppl)\n",
    "\n",
    "# Compute difference from step 0\n",
    "df_filtered['ppl_diff'] = df_filtered['ppl'] - df_filtered['step0_ppl']\n",
    "\n",
    "# Pivot to create heatmap matrix: rows=subdir, columns=step\n",
    "heatmap_data = df_filtered.pivot(index='subdir', columns='step', values='ppl_diff')\n",
    "\n",
    "# Exclude step 0 from the heatmap\n",
    "heatmap_data = heatmap_data.drop(columns=[0], errors='ignore')\n",
    "\n",
    "# Plot the heatmap\n",
    "plt.figure(figsize=(12, 8))\n",
    "sns.heatmap(heatmap_data, annot=True, fmt=\".2f\", cmap='coolwarm', center=0, cbar_kws={'label': 'PPL Difference from Step 0'})\n",
    "plt.title('PPL Difference from Step 0 Across Finetuning Steps')\n",
    "plt.xlabel('Step')\n",
    "plt.ylabel('Watermark')\n",
    "plt.tight_layout()\n",
    "plt.show()\n"
   ]
  }
 ],
 "metadata": {
  "kernelspec": {
   "display_name": "venv",
   "language": "python",
   "name": "python3"
  },
  "language_info": {
   "codemirror_mode": {
    "name": "ipython",
    "version": 3
   },
   "file_extension": ".py",
   "mimetype": "text/x-python",
   "name": "python",
   "nbconvert_exporter": "python",
   "pygments_lexer": "ipython3",
   "version": "3.12.5"
  }
 },
 "nbformat": 4,
 "nbformat_minor": 5
}
