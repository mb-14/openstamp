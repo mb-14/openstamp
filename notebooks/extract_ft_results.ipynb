{
 "cells": [
  {
   "cell_type": "code",
   "execution_count": null,
   "id": "1ebeed19",
   "metadata": {},
   "outputs": [],
   "source": [
    "import json\n",
    "import os\n",
    "import re\n",
    "import pandas as pd\n",
    "\n",
    "\n",
    "\n",
    "model = \"meta-llama/Llama-2-7b-hf\"\n",
    "\n",
    "model_suffix = model.split(\"/\")[-1]\n",
    "\n",
    "path = f\"../output/{model_suffix}/lora\"\n",
    "\n",
    "# List subdirectories in the path\n",
    "subdirs = [d for d in os.listdir(path) if os.path.isdir(os.path.join(path, d))]\n",
    "\n",
    "# Read JSON files starting with \"output\" from each subdirectory\n",
    "data = []\n",
    "for subdir in subdirs:\n",
    "    subdir_path = os.path.join(path, subdir)\n",
    "    json_files = [f for f in os.listdir(subdir_path) if f.startswith(\"output\") and f.endswith(\".json\")]\n",
    "\n",
    "    \n",
    "    # Read each JSON file and extract metrics key which is a key value map\n",
    "    for json_file in json_files:\n",
    "        # Get step from the filename which is in the format \"output{.}*step=123.json\"\n",
    "        step_match = re.search(r'step=(\\d+)', json_file)\n",
    "        step = int(step_match.group(1)) if step_match else None\n",
    "        json_path = os.path.join(subdir_path, json_file)\n",
    "        with open(json_path, 'r') as f:\n",
    "            json_data = json.load(f)\n",
    "            metrics = json_data.get(\"metrics\", {})\n",
    "            ppl = json_data.get(\"ppl\", {}).get(\"mean\", None)\n",
    "            json_data = { \n",
    "                \"step\": step,\n",
    "                \"subdir\": subdir,\n",
    "                \"ppl\": ppl,\n",
    "                **metrics\n",
    "            }\n",
    "\n",
    "            data.append(json_data)\n",
    "# Create a DataFrame from the collected data\n",
    "df = pd.DataFrame(data)\n"
   ]
  },
  {
   "cell_type": "code",
   "execution_count": null,
   "id": "847acd7a",
   "metadata": {},
   "outputs": [],
   "source": [
    "# Filter out rows that have subdir ending with targeted\n",
    "\n",
    "df = df[~df['subdir'].str.endswith(\"targeted\")]"
   ]
  },
  {
   "cell_type": "code",
   "execution_count": null,
   "id": "57d18aa8",
   "metadata": {},
   "outputs": [],
   "source": [
    "df"
   ]
  },
  {
   "cell_type": "code",
   "execution_count": null,
   "id": "9584a87e",
   "metadata": {},
   "outputs": [],
   "source": [
    "# Plot auroc across steps for each subdir\n",
    "import matplotlib.pyplot as plt\n",
    "plt.figure(figsize=(12, 6))\n",
    "for subdir in df['subdir'].unique():\n",
    "    subdir_data = df[df['subdir'] == subdir]\n",
    "    # Sort by step\n",
    "    subdir_data = subdir_data.sort_values(by='step')\n",
    "\n",
    "    assert len(subdir_data['step']) == len(subdir_data['auroc']), \"Step and AUROC lengths do not match for each watermark: \" + subdir\n",
    "\n",
    "    plt.plot(subdir_data['step'], subdir_data['best_f1_score'], label=subdir)\n",
    "plt.xlabel('Step')\n",
    "plt.ylabel('Best F1 Score')\n",
    "plt.title('Best F1 Score across Steps for Each Watermark')\n",
    "plt.legend()\n",
    "plt.grid()\n",
    "plt.show()"
   ]
  },
  {
   "cell_type": "code",
   "execution_count": null,
   "id": "fd2829fe",
   "metadata": {},
   "outputs": [],
   "source": [
    "import matplotlib.pyplot as plt\n",
    "import seaborn as sns\n",
    "import pandas as pd\n",
    "\n",
    "# Assume df has columns: subdir, step, ppl\n",
    "\n",
    "# Get step 0 PPL per subdir\n",
    "step0_ppl = df[df['step'] == 0][['subdir', 'ppl']].set_index('subdir')['ppl']\n",
    "\n",
    "# Map step 0 PPL to all rows\n",
    "df['step0_ppl'] = df['subdir'].map(step0_ppl)\n",
    "\n",
    "# Compute difference from step 0\n",
    "df['ppl_diff'] = df['ppl'] - df['step0_ppl']\n",
    "\n",
    "# Pivot to create heatmap matrix: rows=subdir, columns=step\n",
    "heatmap_data = df.pivot(index='subdir', columns='step', values='ppl_diff')\n",
    "\n",
    "# Exclude step 0 from the heatmap\n",
    "heatmap_data = heatmap_data.drop(columns=[0], errors='ignore')\n",
    "\n",
    "# Plot the heatmap\n",
    "plt.figure(figsize=(12, 8))\n",
    "sns.heatmap(heatmap_data, annot=True, fmt=\".2f\", cmap='coolwarm', center=0, cbar_kws={'label': 'PPL Difference from Step 0'})\n",
    "plt.title('PPL Difference from Step 0 Across Finetuning Steps')\n",
    "plt.xlabel('Step')\n",
    "plt.ylabel('Watermark')\n",
    "plt.tight_layout()\n",
    "plt.show()\n"
   ]
  }
 ],
 "metadata": {
  "kernelspec": {
   "display_name": "venv",
   "language": "python",
   "name": "python3"
  },
  "language_info": {
   "codemirror_mode": {
    "name": "ipython",
    "version": 3
   },
   "file_extension": ".py",
   "mimetype": "text/x-python",
   "name": "python",
   "nbconvert_exporter": "python",
   "pygments_lexer": "ipython3",
   "version": "3.12.5"
  }
 },
 "nbformat": 4,
 "nbformat_minor": 5
}
